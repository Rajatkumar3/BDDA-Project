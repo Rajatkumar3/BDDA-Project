{
 "cells": [
  {
   "cell_type": "code",
   "execution_count": 1,
   "metadata": {},
   "outputs": [],
   "source": [
    "#importing python spark library\n",
    "from pyspark.sql import SparkSession"
   ]
  },
  {
   "cell_type": "code",
   "execution_count": 2,
   "metadata": {},
   "outputs": [],
   "source": [
    "#Creating a spark session\n",
    "spark= SparkSession.builder.appName('Ans2').getOrCreate()"
   ]
  },
  {
   "cell_type": "code",
   "execution_count": 3,
   "metadata": {},
   "outputs": [],
   "source": [
    "#importing all the tools which will be required in data prepretion and creating layers \n",
    "import numpy as np\n",
    "from pyspark.ml.feature import StringIndexer , OneHotEncoder\n",
    "from pyspark.ml.feature import MinMaxScaler , StandardScaler , VectorAssembler"
   ]
  },
  {
   "cell_type": "code",
   "execution_count": 4,
   "metadata": {},
   "outputs": [],
   "source": [
    "from pyspark.ml import Pipeline"
   ]
  },
  {
   "cell_type": "code",
   "execution_count": 5,
   "metadata": {},
   "outputs": [],
   "source": [
    "#importing the LinearRegression Model and crossValidator for model tunning.\n",
    "from pyspark.ml.regression import LinearRegression\n",
    "from pyspark.ml.tuning import ParamGridBuilder, CrossValidator"
   ]
  },
  {
   "cell_type": "code",
   "execution_count": 6,
   "metadata": {},
   "outputs": [],
   "source": [
    "#importing the RegressionEvaluator for evaluating our model.\n",
    "from pyspark.ml.evaluation import RegressionEvaluator"
   ]
  },
  {
   "cell_type": "code",
   "execution_count": 7,
   "metadata": {},
   "outputs": [],
   "source": [
    "#importing functions\n",
    "from pyspark.sql.functions import isnan,when,count,col"
   ]
  },
  {
   "cell_type": "code",
   "execution_count": 8,
   "metadata": {},
   "outputs": [],
   "source": [
    "#reading the file\n",
    "df=spark.read.csv('insurance.csv', header=True,inferSchema=True)"
   ]
  },
  {
   "cell_type": "code",
   "execution_count": 9,
   "metadata": {},
   "outputs": [
    {
     "name": "stdout",
     "output_type": "stream",
     "text": [
      "+---+------+------+--------+------+---------+-----------+\n",
      "|age|   sex|   bmi|children|smoker|   region|    charges|\n",
      "+---+------+------+--------+------+---------+-----------+\n",
      "| 19|female|  27.9|       0|   yes|southwest|  16884.924|\n",
      "| 18|  male| 33.77|       1|    no|southeast|  1725.5523|\n",
      "| 28|  male|  33.0|       3|    no|southeast|   4449.462|\n",
      "| 33|  male|22.705|       0|    no|northwest|21984.47061|\n",
      "| 32|  male| 28.88|       0|    no|northwest|  3866.8552|\n",
      "| 31|female| 25.74|       0|    no|southeast|  3756.6216|\n",
      "| 46|female| 33.44|       1|    no|southeast|  8240.5896|\n",
      "| 37|female| 27.74|       3|    no|northwest|  7281.5056|\n",
      "| 37|  male| 29.83|       2|    no|northeast|  6406.4107|\n",
      "| 60|female| 25.84|       0|    no|northwest|28923.13692|\n",
      "| 25|  male| 26.22|       0|    no|northeast|  2721.3208|\n",
      "| 62|female| 26.29|       0|   yes|southeast| 27808.7251|\n",
      "| 23|  male|  34.4|       0|    no|southwest|   1826.843|\n",
      "| 56|female| 39.82|       0|    no|southeast| 11090.7178|\n",
      "| 27|  male| 42.13|       0|   yes|southeast| 39611.7577|\n",
      "| 19|  male|  24.6|       1|    no|southwest|   1837.237|\n",
      "| 52|female| 30.78|       1|    no|northeast| 10797.3362|\n",
      "| 23|  male|23.845|       0|    no|northeast| 2395.17155|\n",
      "| 56|  male|  40.3|       0|    no|southwest|  10602.385|\n",
      "| 30|  male|  35.3|       0|   yes|southwest|  36837.467|\n",
      "+---+------+------+--------+------+---------+-----------+\n",
      "only showing top 20 rows\n",
      "\n"
     ]
    }
   ],
   "source": [
    "#showing the data\n",
    "df.show()"
   ]
  },
  {
   "cell_type": "code",
   "execution_count": 68,
   "metadata": {},
   "outputs": [
    {
     "data": {
      "text/plain": [
       "['age', 'sex', 'bmi', 'children', 'smoker', 'region', 'charges']"
      ]
     },
     "execution_count": 68,
     "metadata": {},
     "output_type": "execute_result"
    }
   ],
   "source": [
    "#all the Columns\n",
    "df.columns"
   ]
  },
  {
   "cell_type": "code",
   "execution_count": 69,
   "metadata": {},
   "outputs": [
    {
     "name": "stdout",
     "output_type": "stream",
     "text": [
      "root\n",
      " |-- age: integer (nullable = true)\n",
      " |-- sex: string (nullable = true)\n",
      " |-- bmi: double (nullable = true)\n",
      " |-- children: integer (nullable = true)\n",
      " |-- smoker: string (nullable = true)\n",
      " |-- region: string (nullable = true)\n",
      " |-- charges: double (nullable = true)\n",
      "\n"
     ]
    }
   ],
   "source": [
    "#data type in each columns \n",
    "df.printSchema()"
   ]
  },
  {
   "cell_type": "code",
   "execution_count": 12,
   "metadata": {},
   "outputs": [
    {
     "name": "stdout",
     "output_type": "stream",
     "text": [
      "+-----------+\n",
      "|    charges|\n",
      "+-----------+\n",
      "|  16884.924|\n",
      "|  1725.5523|\n",
      "|   4449.462|\n",
      "|21984.47061|\n",
      "|  3866.8552|\n",
      "|  3756.6216|\n",
      "|  8240.5896|\n",
      "|  7281.5056|\n",
      "|  6406.4107|\n",
      "|28923.13692|\n",
      "+-----------+\n",
      "only showing top 10 rows\n",
      "\n"
     ]
    }
   ],
   "source": [
    "#understanding Charges column \n",
    "df.select(\"charges\").show(10)"
   ]
  },
  {
   "cell_type": "code",
   "execution_count": 13,
   "metadata": {},
   "outputs": [
    {
     "data": {
      "text/plain": [
       "1338"
      ]
     },
     "execution_count": 13,
     "metadata": {},
     "output_type": "execute_result"
    }
   ],
   "source": [
    "#no of rowa\n",
    "df.count()"
   ]
  },
  {
   "cell_type": "code",
   "execution_count": 14,
   "metadata": {},
   "outputs": [
    {
     "name": "stdout",
     "output_type": "stream",
     "text": [
      "+-----------+-----+\n",
      "|    charges|count|\n",
      "+-----------+-----+\n",
      "|  9361.3268|    1|\n",
      "|   2494.022|    1|\n",
      "|   7441.501|    1|\n",
      "| 11353.2276|    1|\n",
      "|   7954.517|    1|\n",
      "|  1705.6245|    1|\n",
      "|  2523.1695|    1|\n",
      "| 2803.69785|    1|\n",
      "| 8017.06115|    1|\n",
      "| 12231.6136|    1|\n",
      "| 10560.4917|    1|\n",
      "|  1163.4627|    1|\n",
      "|45702.02235|    1|\n",
      "|  15170.069|    1|\n",
      "| 3279.86855|    1|\n",
      "| 1632.03625|    1|\n",
      "| 17748.5062|    1|\n",
      "|36910.60803|    1|\n",
      "| 12949.1554|    1|\n",
      "|   1743.214|    1|\n",
      "+-----------+-----+\n",
      "only showing top 20 rows\n",
      "\n"
     ]
    }
   ],
   "source": [
    "#checking of Columns have any unique values\n",
    "df.groupby('charges').count().show()"
   ]
  },
  {
   "cell_type": "code",
   "execution_count": 15,
   "metadata": {},
   "outputs": [
    {
     "data": {
      "text/plain": [
       "0.19834096883362903"
      ]
     },
     "execution_count": 15,
     "metadata": {},
     "output_type": "execute_result"
    }
   ],
   "source": [
    "#checking corelation between Bmi and Charges\n",
    "df.corr('bmi','charges')"
   ]
  },
  {
   "cell_type": "code",
   "execution_count": 16,
   "metadata": {},
   "outputs": [
    {
     "data": {
      "text/plain": [
       "0.1092718815485351"
      ]
     },
     "execution_count": 16,
     "metadata": {},
     "output_type": "execute_result"
    }
   ],
   "source": [
    "#checking corelation between Bmi and age \n",
    "df.corr('bmi','age')"
   ]
  },
  {
   "cell_type": "code",
   "execution_count": 70,
   "metadata": {},
   "outputs": [
    {
     "data": {
      "text/plain": [
       "0.04246899855884959"
      ]
     },
     "execution_count": 70,
     "metadata": {},
     "output_type": "execute_result"
    }
   ],
   "source": [
    "#checking corelation between children and age \n",
    "df.corr('children','age')"
   ]
  },
  {
   "cell_type": "code",
   "execution_count": 71,
   "metadata": {},
   "outputs": [
    {
     "data": {
      "text/plain": [
       "0.012758900820673989"
      ]
     },
     "execution_count": 71,
     "metadata": {},
     "output_type": "execute_result"
    }
   ],
   "source": [
    "#checking corelation between children and bmi \n",
    "df.corr('children','bmi')"
   ]
  },
  {
   "cell_type": "code",
   "execution_count": null,
   "metadata": {},
   "outputs": [],
   "source": [
    "# no two columns has a significant corelation that we exclude."
   ]
  },
  {
   "cell_type": "code",
   "execution_count": 17,
   "metadata": {},
   "outputs": [
    {
     "data": {
      "text/plain": [
       "0"
      ]
     },
     "execution_count": 17,
     "metadata": {},
     "output_type": "execute_result"
    }
   ],
   "source": [
    "#checking null values in charges\n",
    "df.select('*').where(df.charges.isNull()).count()"
   ]
  },
  {
   "cell_type": "code",
   "execution_count": 18,
   "metadata": {},
   "outputs": [],
   "source": [
    "#checking null value in each calumns with the help of a loop\n",
    "def get_null_value_count(data):\n",
    "    data.select([count(when(isnan(c)|col(c).isNull(),c)).alias(c) for c in data.columns]).show()"
   ]
  },
  {
   "cell_type": "code",
   "execution_count": 19,
   "metadata": {},
   "outputs": [
    {
     "name": "stdout",
     "output_type": "stream",
     "text": [
      "+---+---+---+--------+------+------+-------+\n",
      "|age|sex|bmi|children|smoker|region|charges|\n",
      "+---+---+---+--------+------+------+-------+\n",
      "|  0|  0|  0|       0|     0|     0|      0|\n",
      "+---+---+---+--------+------+------+-------+\n",
      "\n"
     ]
    }
   ],
   "source": [
    "#NO null value in any culumns. \n",
    "get_null_value_count(df)"
   ]
  },
  {
   "cell_type": "code",
   "execution_count": 20,
   "metadata": {},
   "outputs": [
    {
     "name": "stdout",
     "output_type": "stream",
     "text": [
      "+---+------+------+--------+------+---------+-----------+-----------+--------------+--------------+\n",
      "|age|   sex|   bmi|children|smoker|   region|    charges|sex_indexed|smoker_indexed|region_indexed|\n",
      "+---+------+------+--------+------+---------+-----------+-----------+--------------+--------------+\n",
      "| 19|female|  27.9|       0|   yes|southwest|  16884.924|        1.0|           1.0|           2.0|\n",
      "| 18|  male| 33.77|       1|    no|southeast|  1725.5523|        0.0|           0.0|           0.0|\n",
      "| 28|  male|  33.0|       3|    no|southeast|   4449.462|        0.0|           0.0|           0.0|\n",
      "| 33|  male|22.705|       0|    no|northwest|21984.47061|        0.0|           0.0|           1.0|\n",
      "| 32|  male| 28.88|       0|    no|northwest|  3866.8552|        0.0|           0.0|           1.0|\n",
      "| 31|female| 25.74|       0|    no|southeast|  3756.6216|        1.0|           0.0|           0.0|\n",
      "| 46|female| 33.44|       1|    no|southeast|  8240.5896|        1.0|           0.0|           0.0|\n",
      "| 37|female| 27.74|       3|    no|northwest|  7281.5056|        1.0|           0.0|           1.0|\n",
      "| 37|  male| 29.83|       2|    no|northeast|  6406.4107|        0.0|           0.0|           3.0|\n",
      "| 60|female| 25.84|       0|    no|northwest|28923.13692|        1.0|           0.0|           1.0|\n",
      "| 25|  male| 26.22|       0|    no|northeast|  2721.3208|        0.0|           0.0|           3.0|\n",
      "| 62|female| 26.29|       0|   yes|southeast| 27808.7251|        1.0|           1.0|           0.0|\n",
      "| 23|  male|  34.4|       0|    no|southwest|   1826.843|        0.0|           0.0|           2.0|\n",
      "| 56|female| 39.82|       0|    no|southeast| 11090.7178|        1.0|           0.0|           0.0|\n",
      "| 27|  male| 42.13|       0|   yes|southeast| 39611.7577|        0.0|           1.0|           0.0|\n",
      "| 19|  male|  24.6|       1|    no|southwest|   1837.237|        0.0|           0.0|           2.0|\n",
      "| 52|female| 30.78|       1|    no|northeast| 10797.3362|        1.0|           0.0|           3.0|\n",
      "| 23|  male|23.845|       0|    no|northeast| 2395.17155|        0.0|           0.0|           3.0|\n",
      "| 56|  male|  40.3|       0|    no|southwest|  10602.385|        0.0|           0.0|           2.0|\n",
      "| 30|  male|  35.3|       0|   yes|southwest|  36837.467|        0.0|           1.0|           2.0|\n",
      "+---+------+------+--------+------+---------+-----------+-----------+--------------+--------------+\n",
      "only showing top 20 rows\n",
      "\n"
     ]
    }
   ],
   "source": [
    "#converting string columns to numeric with the help of string indexer\n",
    "indexer=StringIndexer(inputCols=[\"sex\",\"smoker\",\"region\"],outputCols=[\"sex_indexed\",\"smoker_indexed\",\"region_indexed\"])\n",
    "df_r=indexer.fit(df).transform(df)   \n",
    "df_r.show()"
   ]
  },
  {
   "cell_type": "code",
   "execution_count": 21,
   "metadata": {},
   "outputs": [],
   "source": [
    "#joining all the coulums other than target colmun.\n",
    "featureassembler=VectorAssembler(inputCols=['age','sex_indexed','bmi','children','smoker_indexed','region_indexed'],outputCol=\"Independent Features\")\n",
    "output=featureassembler.transform(df_r)"
   ]
  },
  {
   "cell_type": "code",
   "execution_count": 22,
   "metadata": {},
   "outputs": [
    {
     "name": "stdout",
     "output_type": "stream",
     "text": [
      "+--------------------+\n",
      "|Independent Features|\n",
      "+--------------------+\n",
      "|[19.0,1.0,27.9,0....|\n",
      "|[18.0,0.0,33.77,1...|\n",
      "|[28.0,0.0,33.0,3....|\n",
      "|[33.0,0.0,22.705,...|\n",
      "|[32.0,0.0,28.88,0...|\n",
      "|[31.0,1.0,25.74,0...|\n",
      "|[46.0,1.0,33.44,1...|\n",
      "|[37.0,1.0,27.74,3...|\n",
      "|[37.0,0.0,29.83,2...|\n",
      "|[60.0,1.0,25.84,0...|\n",
      "|[25.0,0.0,26.22,0...|\n",
      "|[62.0,1.0,26.29,0...|\n",
      "|[23.0,0.0,34.4,0....|\n",
      "|[56.0,1.0,39.82,0...|\n",
      "|[27.0,0.0,42.13,0...|\n",
      "|[19.0,0.0,24.6,1....|\n",
      "|[52.0,1.0,30.78,1...|\n",
      "|[23.0,0.0,23.845,...|\n",
      "|[56.0,0.0,40.3,0....|\n",
      "|[30.0,0.0,35.3,0....|\n",
      "+--------------------+\n",
      "only showing top 20 rows\n",
      "\n"
     ]
    }
   ],
   "source": [
    "#single column for all the independent features\n",
    "output.select('Independent Features').show()"
   ]
  },
  {
   "cell_type": "code",
   "execution_count": 23,
   "metadata": {},
   "outputs": [],
   "source": [
    "#making a data set wuth two columns that are dependent and independent.\n",
    "finalized_data=output.select(\"Independent Features\",\"charges\")"
   ]
  },
  {
   "cell_type": "code",
   "execution_count": 24,
   "metadata": {},
   "outputs": [
    {
     "name": "stdout",
     "output_type": "stream",
     "text": [
      "+--------------------+-----------+\n",
      "|Independent Features|    charges|\n",
      "+--------------------+-----------+\n",
      "|[19.0,1.0,27.9,0....|  16884.924|\n",
      "|[18.0,0.0,33.77,1...|  1725.5523|\n",
      "|[28.0,0.0,33.0,3....|   4449.462|\n",
      "|[33.0,0.0,22.705,...|21984.47061|\n",
      "|[32.0,0.0,28.88,0...|  3866.8552|\n",
      "|[31.0,1.0,25.74,0...|  3756.6216|\n",
      "|[46.0,1.0,33.44,1...|  8240.5896|\n",
      "|[37.0,1.0,27.74,3...|  7281.5056|\n",
      "|[37.0,0.0,29.83,2...|  6406.4107|\n",
      "|[60.0,1.0,25.84,0...|28923.13692|\n",
      "|[25.0,0.0,26.22,0...|  2721.3208|\n",
      "|[62.0,1.0,26.29,0...| 27808.7251|\n",
      "|[23.0,0.0,34.4,0....|   1826.843|\n",
      "|[56.0,1.0,39.82,0...| 11090.7178|\n",
      "|[27.0,0.0,42.13,0...| 39611.7577|\n",
      "|[19.0,0.0,24.6,1....|   1837.237|\n",
      "|[52.0,1.0,30.78,1...| 10797.3362|\n",
      "|[23.0,0.0,23.845,...| 2395.17155|\n",
      "|[56.0,0.0,40.3,0....|  10602.385|\n",
      "|[30.0,0.0,35.3,0....|  36837.467|\n",
      "+--------------------+-----------+\n",
      "only showing top 20 rows\n",
      "\n"
     ]
    }
   ],
   "source": [
    "#showing final data. \n",
    "finalized_data.show()"
   ]
  },
  {
   "cell_type": "code",
   "execution_count": 25,
   "metadata": {},
   "outputs": [],
   "source": [
    "#splitting data set into test and train (20-80 )\n",
    "train_data,test_data=finalized_data.randomSplit([0.8,0.2])\n",
    "                          "
   ]
  },
  {
   "cell_type": "code",
   "execution_count": 27,
   "metadata": {},
   "outputs": [],
   "source": [
    "#defining linearRegression columns. \n",
    "regressor=LinearRegression(featuresCol='Independent Features', labelCol='charges')"
   ]
  },
  {
   "cell_type": "code",
   "execution_count": 28,
   "metadata": {},
   "outputs": [],
   "source": [
    "#using it on our data set\n",
    "regressor=regressor.fit(train_data)"
   ]
  },
  {
   "cell_type": "code",
   "execution_count": 29,
   "metadata": {},
   "outputs": [
    {
     "data": {
      "text/plain": [
       "DenseVector([255.5946, 245.5816, 342.1488, 506.0454, 23660.7014, 242.5066])"
      ]
     },
     "execution_count": 29,
     "metadata": {},
     "output_type": "execute_result"
    }
   ],
   "source": [
    "#finging the coefficients\n",
    "regressor.coefficients"
   ]
  },
  {
   "cell_type": "code",
   "execution_count": 30,
   "metadata": {},
   "outputs": [
    {
     "data": {
      "text/plain": [
       "-13100.273107330542"
      ]
     },
     "execution_count": 30,
     "metadata": {},
     "output_type": "execute_result"
    }
   ],
   "source": [
    "#finding the intercept\n",
    "regressor.intercept"
   ]
  },
  {
   "cell_type": "code",
   "execution_count": 31,
   "metadata": {},
   "outputs": [],
   "source": [
    "#predictions \n",
    "pred_results=regressor.evaluate(test_data)"
   ]
  },
  {
   "cell_type": "code",
   "execution_count": 32,
   "metadata": {},
   "outputs": [
    {
     "name": "stdout",
     "output_type": "stream",
     "text": [
      "+--------------------+-----------+-------------------+\n",
      "|Independent Features|    charges|         prediction|\n",
      "+--------------------+-----------+-------------------+\n",
      "|(6,[0,2],[18.0,41...|  1146.7966|  5576.431682931072|\n",
      "|(6,[0,2],[23.0,26...|  1815.8759| 1848.7679792329054|\n",
      "|(6,[0,2],[23.0,41...|  1837.2819|  7117.859416029927|\n",
      "|(6,[0,2],[27.0,23...|   2483.736| 1704.4191186636272|\n",
      "|(6,[0,2],[36.0,29...|   4399.731|  6262.952853271419|\n",
      "|(6,[0,2],[48.0,29...|   7789.635|  9330.088440293037|\n",
      "|(6,[0,2],[50.0,25...|   8442.667|   8335.82300856892|\n",
      "|(6,[0,2],[53.0,31...|27346.04207| 11172.607112637435|\n",
      "|(6,[0,2],[58.0,49...| 11381.3254|  18510.03542621302|\n",
      "|(6,[0,2],[59.0,26...|  11743.299| 11012.538372892059|\n",
      "|(6,[0,2],[62.0,39...| 12982.8747|   16408.5954605477|\n",
      "|(6,[0,2],[63.0,41...| 13405.3903|  17191.09923647921|\n",
      "|[18.0,0.0,22.99,0...|  1704.5681|  93.95090150647047|\n",
      "|[18.0,0.0,23.32,1...|  1711.0268| -14.61446610832536|\n",
      "|[18.0,0.0,23.75,0...|  1705.6245|  353.9839854003494|\n",
      "|[18.0,0.0,26.125,...| 1708.92575| 1166.5873725687215|\n",
      "|[18.0,0.0,27.36,1...| 17178.6824|  25755.88789494503|\n",
      "|[18.0,1.0,20.79,0...|  1607.5101|-1140.7146964368476|\n",
      "|[18.0,1.0,21.66,0...| 14283.4594|  23545.17598574335|\n",
      "|[18.0,1.0,26.315,...| 2198.18985| 1477.1772342274835|\n",
      "+--------------------+-----------+-------------------+\n",
      "only showing top 20 rows\n",
      "\n"
     ]
    }
   ],
   "source": [
    "#predicition values\n",
    "pred_results.predictions.show()"
   ]
  },
  {
   "cell_type": "code",
   "execution_count": 72,
   "metadata": {},
   "outputs": [
    {
     "data": {
      "text/plain": [
       "(0.7274968489881224, 4229.10787793482, 39227258.07665372)"
      ]
     },
     "execution_count": 72,
     "metadata": {},
     "output_type": "execute_result"
    }
   ],
   "source": [
    "#Finding MAE, MSE and R*2\n",
    "pred_results.r2,pred_results.meanAbsoluteError,pred_results.meanSquaredError\n"
   ]
  },
  {
   "cell_type": "code",
   "execution_count": 49,
   "metadata": {},
   "outputs": [],
   "source": [
    "#building LinearRegression for cross validation \n",
    "lr = LinearRegression(labelCol=\"charges\", featuresCol=\"Independent Features\")"
   ]
  },
  {
   "cell_type": "code",
   "execution_count": 58,
   "metadata": {},
   "outputs": [],
   "source": [
    "\n",
    "lrparamGrid = (ParamGridBuilder()\n",
    "             .addGrid(lr.regParam, [0.001, 0.01, 0.1, 0.5, 1.0])\n",
    "             #  .addGrid(lr.regParam, [0.01, 0.1, 0.5])\n",
    "             .addGrid(lr.elasticNetParam, [0.0, 0.25, 0.5, 0.75, 1.0])\n",
    "             #  .addGrid(lr.elasticNetParam, [0.0, 0.5, 1.0])\n",
    "             .addGrid(lr.maxIter, [1, 5, 10, 20, 50,70,100,120,140,160,180,200])\n",
    "             #  .addGrid(lr.maxIter, [1, 5, 10])\n",
    "             .build())"
   ]
  },
  {
   "cell_type": "code",
   "execution_count": 59,
   "metadata": {},
   "outputs": [],
   "source": [
    "#giving the columns which it need to tune\n",
    "lrevaluator = RegressionEvaluator(predictionCol=\"prediction\", labelCol=\"charges\", metricName=\"rmse\")"
   ]
  },
  {
   "cell_type": "code",
   "execution_count": 60,
   "metadata": {},
   "outputs": [],
   "source": [
    "#Building cross validation Model\n",
    "lrcv = CrossValidator(estimator = lr,\n",
    "                    estimatorParamMaps = lrparamGrid,\n",
    "                    evaluator = lrevaluator,\n",
    "                    numFolds = 10)"
   ]
  },
  {
   "cell_type": "code",
   "execution_count": 61,
   "metadata": {},
   "outputs": [],
   "source": [
    "#fitting train to above model\n",
    "lrcvModel = lrcv.fit(train_data)"
   ]
  },
  {
   "cell_type": "code",
   "execution_count": 62,
   "metadata": {},
   "outputs": [],
   "source": [
    "lrcvSummary = lrcvModel.bestModel.summary\n"
   ]
  },
  {
   "cell_type": "code",
   "execution_count": 63,
   "metadata": {},
   "outputs": [
    {
     "name": "stdout",
     "output_type": "stream",
     "text": [
      "<pyspark.ml.regression.LinearRegressionTrainingSummary object at 0x7fce944324a8>\n"
     ]
    }
   ],
   "source": [
    "print(lrcvSummary)"
   ]
  },
  {
   "cell_type": "code",
   "execution_count": 64,
   "metadata": {},
   "outputs": [],
   "source": [
    "lrpredictions=lrcvModel.transform(test_data)"
   ]
  },
  {
   "cell_type": "code",
   "execution_count": 65,
   "metadata": {},
   "outputs": [
    {
     "name": "stdout",
     "output_type": "stream",
     "text": [
      "RMSE: 6262.315754225717\n"
     ]
    }
   ],
   "source": [
    "#Calculating RMSE\n",
    "print('RMSE:', lrevaluator.evaluate(lrpredictions))"
   ]
  },
  {
   "cell_type": "code",
   "execution_count": null,
   "metadata": {},
   "outputs": [],
   "source": []
  }
 ],
 "metadata": {
  "kernelspec": {
   "display_name": "Python 3",
   "language": "python",
   "name": "python3"
  },
  "language_info": {
   "codemirror_mode": {
    "name": "ipython",
    "version": 3
   },
   "file_extension": ".py",
   "mimetype": "text/x-python",
   "name": "python",
   "nbconvert_exporter": "python",
   "pygments_lexer": "ipython3",
   "version": "3.7.3"
  }
 },
 "nbformat": 4,
 "nbformat_minor": 2
}
